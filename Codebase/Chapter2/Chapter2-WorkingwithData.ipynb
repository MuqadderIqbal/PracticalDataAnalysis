{
 "cells": [
  {
   "cell_type": "markdown",
   "metadata": {},
   "source": [
    "# Chapter 2: Working with Data"
   ]
  },
  {
   "cell_type": "markdown",
   "metadata": {},
   "source": [
    "List of Open Data Repositories accessible to everyone.\n",
    "\n",
    "• Datahub is available at http://datahub.io/ <br>\n",
    "• Book-Crossing Dataset is available at http://www.informatik.unifreiburg.de/~cziegler/BX/ <br>\n",
    "• World Health Organization is available at\n",
    "http://www.who.int/research/en/ <br>\n",
    "• The World Bank is available at http://data.worldbank.org/ <br>\n",
    "• NASA is available at http://data.nasa.gov/ <br>\n",
    "• United States Government is available at http://www.data.gov/ <br>\n",
    "• Machine Learning Datasets is available at http://bitly.com/bundles/bigmlcom/2 <br>\n",
    "• Scientific Data from University of Muenster is available at\n",
    "http://data.uni-muenster.de/ <br>\n",
    "• Hilary Mason research-quality datasets is available at\n",
    "https://bitly.com/bundles/hmason/1 <br>\n",
    "• Check out the ACM-KDD Cup at the link http://www.sigkdd.org/kddcup/index.php <br>\n",
    "• And Kaggle available at http://www.kaggle.com/competitions <br>"
   ]
  },
  {
   "cell_type": "markdown",
   "metadata": {},
   "source": [
    "### Web Scraping with BeautifulSoup"
   ]
  },
  {
   "cell_type": "code",
   "execution_count": 12,
   "metadata": {
    "collapsed": true
   },
   "outputs": [],
   "source": [
    "from bs4 import BeautifulSoup\n",
    "import urllib.request\n",
    "from time import sleep\n",
    "from datetime import datetime"
   ]
  },
  {
   "cell_type": "code",
   "execution_count": 21,
   "metadata": {},
   "outputs": [],
   "source": [
    "def getGoldPrice():\n",
    "    url = \"https://coinmarketcap.com/\"\n",
    "    req = urllib.request.urlopen(url)\n",
    "    page = req.read()\n",
    "    page = requests.get(url)\n",
    "    \n",
    "    scraping = BeautifulSoup(page)\n",
    "    print(scraping)\n",
    "    price= scraping.findAll(\"td\",attrs={\"class\":\"no-wrap market-cap text-right\"})[0].text\n",
    "    return price"
   ]
  },
  {
   "cell_type": "code",
   "execution_count": null,
   "metadata": {
    "collapsed": true
   },
   "outputs": [],
   "source": [
    "# not working because the page is not in a form appropriate for parsing\n",
    "p = getGoldPrice()"
   ]
  },
  {
   "cell_type": "markdown",
   "metadata": {},
   "source": [
    "### Text Parsing using Regex"
   ]
  },
  {
   "cell_type": "markdown",
   "metadata": {},
   "source": [
    "We will do <br>\n",
    ". Email Address verification <br>\n",
    ". IP Address validation <br>\n",
    ". Date format validation <br>"
   ]
  },
  {
   "cell_type": "markdown",
   "metadata": {},
   "source": [
    "#### Email Address Verification"
   ]
  },
  {
   "cell_type": "code",
   "execution_count": 27,
   "metadata": {},
   "outputs": [
    {
     "name": "stdout",
     "output_type": "stream",
     "text": [
      "readers@packt.com\n",
      "readers\n",
      "packt.com\n"
     ]
    }
   ],
   "source": [
    "import re\n",
    "myString = 'From: readers@packt.com (readers email)'\n",
    "result = re.search('([\\w.-]+)@([\\w.-]+)', myString)\n",
    "if result:\n",
    "    print (result.group(0))\n",
    "    print (result.group(1))\n",
    "    print (result.group(2))"
   ]
  },
  {
   "cell_type": "markdown",
   "metadata": {},
   "source": [
    "#### IP Address Validation"
   ]
  },
  {
   "cell_type": "code",
   "execution_count": null,
   "metadata": {
    "collapsed": true
   },
   "outputs": [],
   "source": [
    "isIP = re.compile('\\d{1,3}')"
   ]
  }
 ],
 "metadata": {
  "kernelspec": {
   "display_name": "Python 3",
   "language": "python",
   "name": "python3"
  },
  "language_info": {
   "codemirror_mode": {
    "name": "ipython",
    "version": 3
   },
   "file_extension": ".py",
   "mimetype": "text/x-python",
   "name": "python",
   "nbconvert_exporter": "python",
   "pygments_lexer": "ipython3",
   "version": "3.6.4"
  }
 },
 "nbformat": 4,
 "nbformat_minor": 2
}
