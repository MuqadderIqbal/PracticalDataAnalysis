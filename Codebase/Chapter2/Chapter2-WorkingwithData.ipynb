{
 "cells": [
  {
   "cell_type": "markdown",
   "metadata": {},
   "source": [
    "# Chapter 2: Working with Data"
   ]
  },
  {
   "cell_type": "markdown",
   "metadata": {},
   "source": [
    "List of Open Data Repositories accessible to everyone.\n",
    "\n",
    "• Datahub is available at http://datahub.io/ <br>\n",
    "• Book-Crossing Dataset is available at http://www.informatik.unifreiburg.de/~cziegler/BX/ <br>\n",
    "• World Health Organization is available at\n",
    "http://www.who.int/research/en/ <br>\n",
    "• The World Bank is available at http://data.worldbank.org/ <br>\n",
    "• NASA is available at http://data.nasa.gov/ <br>\n",
    "• United States Government is available at http://www.data.gov/ <br>\n",
    "• Machine Learning Datasets is available at http://bitly.com/bundles/bigmlcom/2 <br>\n",
    "• Scientific Data from University of Muenster is available at\n",
    "http://data.uni-muenster.de/ <br>\n",
    "• Hilary Mason research-quality datasets is available at\n",
    "https://bitly.com/bundles/hmason/1 <br>\n",
    "• Check out the ACM-KDD Cup at the link http://www.sigkdd.org/kddcup/index.php <br>\n",
    "• And Kaggle available at http://www.kaggle.com/competitions <br>"
   ]
  },
  {
   "cell_type": "markdown",
   "metadata": {},
   "source": [
    "### Web Scraping with BeautifulSoup"
   ]
  },
  {
   "cell_type": "code",
   "execution_count": 2,
   "metadata": {
    "collapsed": true
   },
   "outputs": [],
   "source": [
    "from bs4 import BeautifulSoup as bs"
   ]
  },
  {
   "cell_type": "code",
   "execution_count": null,
   "metadata": {
    "collapsed": true
   },
   "outputs": [],
   "source": []
  }
 ],
 "metadata": {
  "kernelspec": {
   "display_name": "Python 3",
   "language": "python",
   "name": "python3"
  },
  "language_info": {
   "codemirror_mode": {
    "name": "ipython",
    "version": 3
   },
   "file_extension": ".py",
   "mimetype": "text/x-python",
   "name": "python",
   "nbconvert_exporter": "python",
   "pygments_lexer": "ipython3",
   "version": "3.6.4"
  }
 },
 "nbformat": 4,
 "nbformat_minor": 2
}
